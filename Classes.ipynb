{
 "cells": [
  {
   "cell_type": "code",
   "execution_count": 1,
   "metadata": {},
   "outputs": [],
   "source": [
    "import pandas as pd"
   ]
  },
  {
   "cell_type": "markdown",
   "metadata": {},
   "source": [
    "# Reading Data\n",
    "\n",
    "* `pd.read_csv` – read data from csv file: [documentation](https://pandas.pydata.org/docs/reference/api/pandas.read_csv.html)\n",
    "* `pd.read_excel` – read data from excel file: [documentation](https://pandas.pydata.org/docs/reference/api/pandas.read_excel.html)"
   ]
  },
  {
   "cell_type": "markdown",
   "metadata": {},
   "source": [
    "## Exercise 1\n",
    "Read the data from `data/iris.csv` and assign it to the `iris` variable; preview the variable in notebook "
   ]
  },
  {
   "cell_type": "code",
   "execution_count": 3,
   "metadata": {},
   "outputs": [
    {
     "data": {
      "text/html": [
       "<div>\n",
       "<style scoped>\n",
       "    .dataframe tbody tr th:only-of-type {\n",
       "        vertical-align: middle;\n",
       "    }\n",
       "\n",
       "    .dataframe tbody tr th {\n",
       "        vertical-align: top;\n",
       "    }\n",
       "\n",
       "    .dataframe thead th {\n",
       "        text-align: right;\n",
       "    }\n",
       "</style>\n",
       "<table border=\"1\" class=\"dataframe\">\n",
       "  <thead>\n",
       "    <tr style=\"text-align: right;\">\n",
       "      <th></th>\n",
       "      <th>sepal.length</th>\n",
       "      <th>sepal.width</th>\n",
       "      <th>petal.length</th>\n",
       "      <th>petal.width</th>\n",
       "      <th>variety</th>\n",
       "    </tr>\n",
       "  </thead>\n",
       "  <tbody>\n",
       "    <tr>\n",
       "      <th>0</th>\n",
       "      <td>5.1</td>\n",
       "      <td>3.5</td>\n",
       "      <td>1.4</td>\n",
       "      <td>0.2</td>\n",
       "      <td>Setosa</td>\n",
       "    </tr>\n",
       "    <tr>\n",
       "      <th>1</th>\n",
       "      <td>4.9</td>\n",
       "      <td>3.0</td>\n",
       "      <td>1.4</td>\n",
       "      <td>0.2</td>\n",
       "      <td>Setosa</td>\n",
       "    </tr>\n",
       "    <tr>\n",
       "      <th>2</th>\n",
       "      <td>4.7</td>\n",
       "      <td>3.2</td>\n",
       "      <td>1.3</td>\n",
       "      <td>0.2</td>\n",
       "      <td>Setosa</td>\n",
       "    </tr>\n",
       "    <tr>\n",
       "      <th>3</th>\n",
       "      <td>4.6</td>\n",
       "      <td>3.1</td>\n",
       "      <td>1.5</td>\n",
       "      <td>0.2</td>\n",
       "      <td>Setosa</td>\n",
       "    </tr>\n",
       "    <tr>\n",
       "      <th>4</th>\n",
       "      <td>5.0</td>\n",
       "      <td>3.6</td>\n",
       "      <td>1.4</td>\n",
       "      <td>0.2</td>\n",
       "      <td>Setosa</td>\n",
       "    </tr>\n",
       "    <tr>\n",
       "      <th>...</th>\n",
       "      <td>...</td>\n",
       "      <td>...</td>\n",
       "      <td>...</td>\n",
       "      <td>...</td>\n",
       "      <td>...</td>\n",
       "    </tr>\n",
       "    <tr>\n",
       "      <th>145</th>\n",
       "      <td>6.7</td>\n",
       "      <td>3.0</td>\n",
       "      <td>5.2</td>\n",
       "      <td>2.3</td>\n",
       "      <td>Virginica</td>\n",
       "    </tr>\n",
       "    <tr>\n",
       "      <th>146</th>\n",
       "      <td>6.3</td>\n",
       "      <td>2.5</td>\n",
       "      <td>5.0</td>\n",
       "      <td>1.9</td>\n",
       "      <td>Virginica</td>\n",
       "    </tr>\n",
       "    <tr>\n",
       "      <th>147</th>\n",
       "      <td>6.5</td>\n",
       "      <td>3.0</td>\n",
       "      <td>5.2</td>\n",
       "      <td>2.0</td>\n",
       "      <td>Virginica</td>\n",
       "    </tr>\n",
       "    <tr>\n",
       "      <th>148</th>\n",
       "      <td>6.2</td>\n",
       "      <td>3.4</td>\n",
       "      <td>5.4</td>\n",
       "      <td>2.3</td>\n",
       "      <td>Virginica</td>\n",
       "    </tr>\n",
       "    <tr>\n",
       "      <th>149</th>\n",
       "      <td>5.9</td>\n",
       "      <td>3.0</td>\n",
       "      <td>5.1</td>\n",
       "      <td>1.8</td>\n",
       "      <td>Virginica</td>\n",
       "    </tr>\n",
       "  </tbody>\n",
       "</table>\n",
       "<p>150 rows × 5 columns</p>\n",
       "</div>"
      ],
      "text/plain": [
       "     sepal.length  sepal.width  petal.length  petal.width    variety\n",
       "0             5.1          3.5           1.4          0.2     Setosa\n",
       "1             4.9          3.0           1.4          0.2     Setosa\n",
       "2             4.7          3.2           1.3          0.2     Setosa\n",
       "3             4.6          3.1           1.5          0.2     Setosa\n",
       "4             5.0          3.6           1.4          0.2     Setosa\n",
       "..            ...          ...           ...          ...        ...\n",
       "145           6.7          3.0           5.2          2.3  Virginica\n",
       "146           6.3          2.5           5.0          1.9  Virginica\n",
       "147           6.5          3.0           5.2          2.0  Virginica\n",
       "148           6.2          3.4           5.4          2.3  Virginica\n",
       "149           5.9          3.0           5.1          1.8  Virginica\n",
       "\n",
       "[150 rows x 5 columns]"
      ]
     },
     "execution_count": 3,
     "metadata": {},
     "output_type": "execute_result"
    }
   ],
   "source": [
    "iris = pd.read_csv(\"data/iris.csv\")\n",
    "iris"
   ]
  },
  {
   "cell_type": "markdown",
   "metadata": {},
   "source": [
    "## Exercise 2\n",
    "Read data from `data/iris_modified.csv`."
   ]
  },
  {
   "cell_type": "code",
   "execution_count": 4,
   "metadata": {},
   "outputs": [
    {
     "data": {
      "text/html": [
       "<div>\n",
       "<style scoped>\n",
       "    .dataframe tbody tr th:only-of-type {\n",
       "        vertical-align: middle;\n",
       "    }\n",
       "\n",
       "    .dataframe tbody tr th {\n",
       "        vertical-align: top;\n",
       "    }\n",
       "\n",
       "    .dataframe thead th {\n",
       "        text-align: right;\n",
       "    }\n",
       "</style>\n",
       "<table border=\"1\" class=\"dataframe\">\n",
       "  <thead>\n",
       "    <tr style=\"text-align: right;\">\n",
       "      <th></th>\n",
       "      <th>sepal.length</th>\n",
       "      <th>sepal.width</th>\n",
       "      <th>petal.length</th>\n",
       "      <th>petal.width</th>\n",
       "      <th>variety</th>\n",
       "    </tr>\n",
       "  </thead>\n",
       "  <tbody>\n",
       "    <tr>\n",
       "      <th>0</th>\n",
       "      <td>5.1</td>\n",
       "      <td>3.5</td>\n",
       "      <td>1.4</td>\n",
       "      <td>0.2</td>\n",
       "      <td>Setosa</td>\n",
       "    </tr>\n",
       "    <tr>\n",
       "      <th>1</th>\n",
       "      <td>4.9</td>\n",
       "      <td>3.0</td>\n",
       "      <td>1.4</td>\n",
       "      <td>0.2</td>\n",
       "      <td>Setosa</td>\n",
       "    </tr>\n",
       "    <tr>\n",
       "      <th>2</th>\n",
       "      <td>4.7</td>\n",
       "      <td>3.2</td>\n",
       "      <td>1.3</td>\n",
       "      <td>0.2</td>\n",
       "      <td>Setosa</td>\n",
       "    </tr>\n",
       "    <tr>\n",
       "      <th>3</th>\n",
       "      <td>4.6</td>\n",
       "      <td>3.1</td>\n",
       "      <td>1.5</td>\n",
       "      <td>0.2</td>\n",
       "      <td>Setosa</td>\n",
       "    </tr>\n",
       "    <tr>\n",
       "      <th>4</th>\n",
       "      <td>5.0</td>\n",
       "      <td>3.6</td>\n",
       "      <td>1.4</td>\n",
       "      <td>0.2</td>\n",
       "      <td>Setosa</td>\n",
       "    </tr>\n",
       "    <tr>\n",
       "      <th>...</th>\n",
       "      <td>...</td>\n",
       "      <td>...</td>\n",
       "      <td>...</td>\n",
       "      <td>...</td>\n",
       "      <td>...</td>\n",
       "    </tr>\n",
       "    <tr>\n",
       "      <th>145</th>\n",
       "      <td>6.7</td>\n",
       "      <td>3.0</td>\n",
       "      <td>5.2</td>\n",
       "      <td>2.3</td>\n",
       "      <td>Virginica</td>\n",
       "    </tr>\n",
       "    <tr>\n",
       "      <th>146</th>\n",
       "      <td>6.3</td>\n",
       "      <td>2.5</td>\n",
       "      <td>5.0</td>\n",
       "      <td>1.9</td>\n",
       "      <td>Virginica</td>\n",
       "    </tr>\n",
       "    <tr>\n",
       "      <th>147</th>\n",
       "      <td>6.5</td>\n",
       "      <td>3.0</td>\n",
       "      <td>5.2</td>\n",
       "      <td>2.0</td>\n",
       "      <td>Virginica</td>\n",
       "    </tr>\n",
       "    <tr>\n",
       "      <th>148</th>\n",
       "      <td>6.2</td>\n",
       "      <td>3.4</td>\n",
       "      <td>5.4</td>\n",
       "      <td>2.3</td>\n",
       "      <td>Virginica</td>\n",
       "    </tr>\n",
       "    <tr>\n",
       "      <th>149</th>\n",
       "      <td>5.9</td>\n",
       "      <td>3.0</td>\n",
       "      <td>5.1</td>\n",
       "      <td>1.8</td>\n",
       "      <td>Virginica</td>\n",
       "    </tr>\n",
       "  </tbody>\n",
       "</table>\n",
       "<p>150 rows × 5 columns</p>\n",
       "</div>"
      ],
      "text/plain": [
       "     sepal.length  sepal.width  petal.length  petal.width    variety\n",
       "0             5.1          3.5           1.4          0.2     Setosa\n",
       "1             4.9          3.0           1.4          0.2     Setosa\n",
       "2             4.7          3.2           1.3          0.2     Setosa\n",
       "3             4.6          3.1           1.5          0.2     Setosa\n",
       "4             5.0          3.6           1.4          0.2     Setosa\n",
       "..            ...          ...           ...          ...        ...\n",
       "145           6.7          3.0           5.2          2.3  Virginica\n",
       "146           6.3          2.5           5.0          1.9  Virginica\n",
       "147           6.5          3.0           5.2          2.0  Virginica\n",
       "148           6.2          3.4           5.4          2.3  Virginica\n",
       "149           5.9          3.0           5.1          1.8  Virginica\n",
       "\n",
       "[150 rows x 5 columns]"
      ]
     },
     "execution_count": 4,
     "metadata": {},
     "output_type": "execute_result"
    }
   ],
   "source": [
    "pd.read_csv(\"data/iris_modified.csv\", sep = \";\")"
   ]
  },
  {
   "cell_type": "markdown",
   "metadata": {},
   "source": [
    "## Exercise 3\n",
    "Save the `iris` DataFrame to the `iris.xlsx` file (sheet name `iris`). See [to_excel](https://pandas.pydata.org/docs/reference/api/pandas.DataFrame.to_excel.html). (May need to install `openpyxl` package)"
   ]
  },
  {
   "cell_type": "code",
   "execution_count": 10,
   "metadata": {},
   "outputs": [],
   "source": [
    "import openpyxl as xl\n",
    "\n",
    "iris.to_excel(\"data/iris.xlsx\", sheet_name=\"iris\")"
   ]
  },
  {
   "cell_type": "markdown",
   "metadata": {},
   "source": [
    "## Exercise 4*\n",
    "Read data from the `miakob` sheet in `data/tablica_a._tablica_trwania_zycia_2019.xlsx`. \n",
    "\n",
    "(May need to install `openpyxl` package and specify it as `engine` in order to work)"
   ]
  },
  {
   "cell_type": "code",
   "execution_count": 98,
   "metadata": {},
   "outputs": [
    {
     "data": {
      "text/html": [
       "<div>\n",
       "<style scoped>\n",
       "    .dataframe tbody tr th:only-of-type {\n",
       "        vertical-align: middle;\n",
       "    }\n",
       "\n",
       "    .dataframe tbody tr th {\n",
       "        vertical-align: top;\n",
       "    }\n",
       "\n",
       "    .dataframe thead th {\n",
       "        text-align: right;\n",
       "    }\n",
       "</style>\n",
       "<table border=\"1\" class=\"dataframe\">\n",
       "  <thead>\n",
       "    <tr style=\"text-align: right;\">\n",
       "      <th></th>\n",
       "      <th>x</th>\n",
       "      <th>lx</th>\n",
       "      <th>qx</th>\n",
       "      <th>dx</th>\n",
       "      <th>Lx</th>\n",
       "      <th>Tx</th>\n",
       "      <th>ex</th>\n",
       "    </tr>\n",
       "  </thead>\n",
       "  <tbody>\n",
       "    <tr>\n",
       "      <th>0</th>\n",
       "      <td>0</td>\n",
       "      <td>100000</td>\n",
       "      <td>0.00353</td>\n",
       "      <td>353</td>\n",
       "      <td>99823.5</td>\n",
       "      <td>8165260.0</td>\n",
       "      <td>81.65</td>\n",
       "    </tr>\n",
       "    <tr>\n",
       "      <th>1</th>\n",
       "      <td>1</td>\n",
       "      <td>99647</td>\n",
       "      <td>0.00023</td>\n",
       "      <td>23</td>\n",
       "      <td>99635.5</td>\n",
       "      <td>8065437.0</td>\n",
       "      <td>80.94</td>\n",
       "    </tr>\n",
       "    <tr>\n",
       "      <th>2</th>\n",
       "      <td>2</td>\n",
       "      <td>99624</td>\n",
       "      <td>0.00015</td>\n",
       "      <td>15</td>\n",
       "      <td>99616.5</td>\n",
       "      <td>7965801.0</td>\n",
       "      <td>79.96</td>\n",
       "    </tr>\n",
       "    <tr>\n",
       "      <th>3</th>\n",
       "      <td>3</td>\n",
       "      <td>99609</td>\n",
       "      <td>0.00010</td>\n",
       "      <td>10</td>\n",
       "      <td>99604.0</td>\n",
       "      <td>7866185.0</td>\n",
       "      <td>78.97</td>\n",
       "    </tr>\n",
       "    <tr>\n",
       "      <th>4</th>\n",
       "      <td>4</td>\n",
       "      <td>99599</td>\n",
       "      <td>0.00008</td>\n",
       "      <td>8</td>\n",
       "      <td>99595.0</td>\n",
       "      <td>7766581.0</td>\n",
       "      <td>77.98</td>\n",
       "    </tr>\n",
       "    <tr>\n",
       "      <th>...</th>\n",
       "      <td>...</td>\n",
       "      <td>...</td>\n",
       "      <td>...</td>\n",
       "      <td>...</td>\n",
       "      <td>...</td>\n",
       "      <td>...</td>\n",
       "      <td>...</td>\n",
       "    </tr>\n",
       "    <tr>\n",
       "      <th>96</th>\n",
       "      <td>96</td>\n",
       "      <td>8551</td>\n",
       "      <td>0.24180</td>\n",
       "      <td>2068</td>\n",
       "      <td>7517.0</td>\n",
       "      <td>25444.5</td>\n",
       "      <td>2.98</td>\n",
       "    </tr>\n",
       "    <tr>\n",
       "      <th>97</th>\n",
       "      <td>97</td>\n",
       "      <td>6483</td>\n",
       "      <td>0.26232</td>\n",
       "      <td>1701</td>\n",
       "      <td>5632.5</td>\n",
       "      <td>17927.5</td>\n",
       "      <td>2.77</td>\n",
       "    </tr>\n",
       "    <tr>\n",
       "      <th>98</th>\n",
       "      <td>98</td>\n",
       "      <td>4782</td>\n",
       "      <td>0.28378</td>\n",
       "      <td>1357</td>\n",
       "      <td>4103.5</td>\n",
       "      <td>12295.0</td>\n",
       "      <td>2.57</td>\n",
       "    </tr>\n",
       "    <tr>\n",
       "      <th>99</th>\n",
       "      <td>99</td>\n",
       "      <td>3425</td>\n",
       "      <td>0.30614</td>\n",
       "      <td>1048</td>\n",
       "      <td>2901.0</td>\n",
       "      <td>8191.5</td>\n",
       "      <td>2.39</td>\n",
       "    </tr>\n",
       "    <tr>\n",
       "      <th>100</th>\n",
       "      <td>100</td>\n",
       "      <td>2377</td>\n",
       "      <td>0.32934</td>\n",
       "      <td>783</td>\n",
       "      <td>1985.5</td>\n",
       "      <td>5290.5</td>\n",
       "      <td>2.23</td>\n",
       "    </tr>\n",
       "  </tbody>\n",
       "</table>\n",
       "<p>101 rows × 7 columns</p>\n",
       "</div>"
      ],
      "text/plain": [
       "       x      lx       qx    dx       Lx         Tx     ex\n",
       "0      0  100000  0.00353   353  99823.5  8165260.0  81.65\n",
       "1      1   99647  0.00023    23  99635.5  8065437.0  80.94\n",
       "2      2   99624  0.00015    15  99616.5  7965801.0  79.96\n",
       "3      3   99609  0.00010    10  99604.0  7866185.0  78.97\n",
       "4      4   99599  0.00008     8  99595.0  7766581.0  77.98\n",
       "..   ...     ...      ...   ...      ...        ...    ...\n",
       "96    96    8551  0.24180  2068   7517.0    25444.5   2.98\n",
       "97    97    6483  0.26232  1701   5632.5    17927.5   2.77\n",
       "98    98    4782  0.28378  1357   4103.5    12295.0   2.57\n",
       "99    99    3425  0.30614  1048   2901.0     8191.5   2.39\n",
       "100  100    2377  0.32934   783   1985.5     5290.5   2.23\n",
       "\n",
       "[101 rows x 7 columns]"
      ]
     },
     "execution_count": 98,
     "metadata": {},
     "output_type": "execute_result"
    }
   ],
   "source": [
    "miakob = pd.read_excel(\"data/tablica_a._tablica_trwania_zycia_2019.xlsx\", header = [5], skiprows = [6], sheet_name = \"miakob\")\n",
    "miakob"
   ]
  },
  {
   "cell_type": "markdown",
   "metadata": {},
   "source": [
    "# DataFrame and Series\n",
    "\n",
    "The basic types from `pandas` library are [`DataFrame`](https://pandas.pydata.org/docs/reference/frame.html), for representing tabular data, and [`Series`](https://pandas.pydata.org/docs/reference/series.html) for 1-dimensional data (e.g. columns in `DataFrame`)"
   ]
  },
  {
   "cell_type": "markdown",
   "metadata": {},
   "source": [
    "## Data types\n",
    "`pandas` uses the same types as `numpy`. \n",
    "The following parameters are available:\n",
    "\n",
    "* `dtypes` for `DataFrame`.\n",
    "* `dtype` for `Series`.\n",
    "* Both provide an `astype` method."
   ]
  },
  {
   "cell_type": "code",
   "execution_count": 13,
   "metadata": {},
   "outputs": [
    {
     "data": {
      "text/plain": [
       "sepal.length    float64\n",
       "sepal.width     float64\n",
       "petal.length    float64\n",
       "petal.width     float64\n",
       "variety          object\n",
       "dtype: object"
      ]
     },
     "execution_count": 13,
     "metadata": {},
     "output_type": "execute_result"
    }
   ],
   "source": [
    "iris.dtypes"
   ]
  },
  {
   "cell_type": "code",
   "execution_count": 14,
   "metadata": {},
   "outputs": [
    {
     "data": {
      "text/plain": [
       "dtype('float64')"
      ]
     },
     "execution_count": 14,
     "metadata": {},
     "output_type": "execute_result"
    }
   ],
   "source": [
    "iris[\"sepal.length\"].dtype"
   ]
  },
  {
   "cell_type": "markdown",
   "metadata": {},
   "source": [
    "## Exercise 5\n",
    "Create a copy of the `iris` data frame and change the type of `petal.length` to `float32` "
   ]
  },
  {
   "cell_type": "code",
   "execution_count": 97,
   "metadata": {},
   "outputs": [
    {
     "data": {
      "text/plain": [
       "dtype('float64')"
      ]
     },
     "execution_count": 97,
     "metadata": {},
     "output_type": "execute_result"
    }
   ],
   "source": [
    "import copy\n",
    "iris_copy = copy.deepcopy(iris)\n",
    "iris_copy[\"petal.length\"] = iris[\"petal.length\"].astype(\"float32\")\n",
    "iris_copy[\"sepal.length\"].dtype"
   ]
  },
  {
   "cell_type": "markdown",
   "metadata": {},
   "source": [
    "# Filtering\n",
    "You can access column data in `pandas` using two different notations: `df.column_name` or `df[\"column_name\"]`.\n",
    "\n",
    "To get multiple columns use the following syntax: `df[list_of_column_names]`."
   ]
  },
  {
   "cell_type": "markdown",
   "metadata": {},
   "source": [
    "## Exercise 6\n",
    "Create a data frame with the `Virginica` variety only and calculate its `mean` value and plot a histogram for each numerical column."
   ]
  },
  {
   "cell_type": "code",
   "execution_count": 74,
   "metadata": {},
   "outputs": [
    {
     "name": "stdout",
     "output_type": "stream",
     "text": [
      "sepal.length    6.588\n",
      "sepal.width     2.974\n",
      "petal.length    5.552\n",
      "petal.width     2.026\n",
      "dtype: float64\n"
     ]
    },
    {
     "data": {
      "image/png": "[encoded data removed]",
      "text/plain": [
       "<Figure size 640x480 with 4 Axes>"
      ]
     },
     "metadata": {},
     "output_type": "display_data"
    }
   ],
   "source": [
    "import statistics as st\n",
    "virginica = iris[iris.variety == \"Virginica\"]\n",
    "virginica.hist()\n",
    "print(virginica.mean())\n"
   ]
  },
  {
   "cell_type": "markdown",
   "metadata": {},
   "source": [
    "## Exercise 7\n",
    "Save the `iris` data frame to `iris2.xlsx`, with split based on variety. Each type should be in a separate sheet with the sheet name the same as variety."
   ]
  },
  {
   "cell_type": "code",
   "execution_count": 106,
   "metadata": {},
   "outputs": [],
   "source": [
    "varietys = iris.variety\n",
    "varietys = list(dict.fromkeys(varietys))\n",
    "with pd.ExcelWriter(\"iris2.xlsx\") as writer:\n",
    "    for name in varietys:\n",
    "        iris[iris.variety == name].to_excel(writer, sheet_name = name)"
   ]
  },
  {
   "cell_type": "markdown",
   "metadata": {},
   "source": [
    "# Creating Data Frame\n",
    "The `pandas` `DataFrame` constructor function is described here: https://pandas.pydata.org/docs/reference/api/pandas.DataFrame.html \n",
    "\n",
    "\n"
   ]
  },
  {
   "cell_type": "markdown",
   "metadata": {},
   "source": [
    "## Exercise 8\n",
    "Create a `Dataframe` from the following data:\n",
    "```\n",
    "data = {\n",
    "       \"sepal.length\": [5.006, 5.936, 6.588],\n",
    "       \"sepal.width\": [3.428, 2.77 , 2.974],\n",
    "       \"petal.length\": [1.462, 4.26 , 5.552],\n",
    "       \"petal.width\": [0.246, 1.326, 2.026],\n",
    "       \"variety\": [\"Setosa\", \"Versicolor\", \"Virginica\"]\n",
    "}\n",
    "```"
   ]
  },
  {
   "cell_type": "code",
   "execution_count": null,
   "metadata": {},
   "outputs": [],
   "source": []
  },
  {
   "cell_type": "markdown",
   "metadata": {},
   "source": [
    "## Exercise 9\n",
    "Create a `Dataframe` from the following data and set proper column names:\n",
    "\n",
    "```\n",
    "[[5.006, 3.428, 1.462, 0.246, 'Setosa'],\n",
    "[5.936, 2.77, 4.26, 1.326, 'Versicolor'],\n",
    "[6.588, 2.974, 5.552, 2.026, 'Virginica']]\n",
    "```"
   ]
  },
  {
   "cell_type": "code",
   "execution_count": null,
   "metadata": {},
   "outputs": [],
   "source": []
  },
  {
   "cell_type": "markdown",
   "metadata": {},
   "source": [
    "# SQL like operiations\n",
    "https://pandas.pydata.org/docs/reference/api/pandas.DataFrame.join.html\n",
    "https://pandas.pydata.org/docs/reference/api/pandas.DataFrame.groupby.html\n"
   ]
  },
  {
   "cell_type": "markdown",
   "metadata": {},
   "source": [
    "## Exercise 10\n",
    "\n",
    "Join `df1` and `df2` to produce the same result as `df3`. How would you modify `df4` so that you can join it with `df1` to produce `df3`?"
   ]
  },
  {
   "cell_type": "code",
   "execution_count": null,
   "metadata": {},
   "outputs": [],
   "source": [
    "df1 = pd.DataFrame({'sepal.length': {'Setosa': 5.005999999999999,\n",
    "  'Versicolor': 5.936,\n",
    "  'Virginica': 6.587999999999998},\n",
    " 'sepal.width': {'Setosa': 3.428000000000001,\n",
    "  'Versicolor': 2.7700000000000005,\n",
    "  'Virginica': 2.9739999999999998}})\n",
    "df2 = pd.DataFrame({'petal.length': {'Setosa': 1.4620000000000002,\n",
    "  'Versicolor': 4.26,\n",
    "  'Virginica': 5.552},\n",
    " 'petal.width': {'Setosa': 0.2459999999999999,\n",
    "  'Versicolor': 1.3259999999999998,\n",
    "  'Virginica': 2.026}})\n",
    "\n",
    "df3 = pd.DataFrame({'sepal.length': {'Setosa': 5.005999999999999,\n",
    "  'Versicolor': 5.936,\n",
    "  'Virginica': 6.587999999999998},\n",
    " 'sepal.width': {'Setosa': 3.428000000000001,\n",
    "  'Versicolor': 2.7700000000000005,\n",
    "  'Virginica': 2.9739999999999998},\n",
    " 'petal.length': {'Setosa': 1.4620000000000002,\n",
    "  'Versicolor': 4.26,\n",
    "  'Virginica': 5.552},\n",
    " 'petal.width': {'Setosa': 0.2459999999999999,\n",
    "  'Versicolor': 1.3259999999999998,\n",
    "  'Virginica': 2.026}})\n",
    "df4 = pd.DataFrame({'petal.length': {0: 1.4620000000000002, 1: 4.26, 2: 5.552},\n",
    " 'petal.width': {0: 0.2459999999999999, 1: 1.3259999999999998, 2: 2.026}})"
   ]
  },
  {
   "cell_type": "code",
   "execution_count": null,
   "metadata": {},
   "outputs": [],
   "source": []
  },
  {
   "cell_type": "markdown",
   "metadata": {},
   "source": [
    "## Exercise 11*\n",
    "How is `df3` from the previous exercise produced from the `iris` `DataFrame`?"
   ]
  },
  {
   "cell_type": "code",
   "execution_count": null,
   "metadata": {},
   "outputs": [],
   "source": []
  },
  {
   "cell_type": "markdown",
   "metadata": {},
   "source": [
    "## Exercise 12\n",
    "Join the `dd1` and `dd2` `DataFrame`s using `variety` column.  "
   ]
  },
  {
   "cell_type": "code",
   "execution_count": null,
   "metadata": {},
   "outputs": [],
   "source": [
    "dd1 = pd.DataFrame({'sepal.length': {0: 5.005999999999999, 1: 5.936, 2: 6.587999999999998},\n",
    " 'sepal.width': {0: 3.428000000000001,\n",
    "  1: 2.7700000000000005,\n",
    "  2: 2.9739999999999998},\n",
    " 'variety': {0: 'Setosa', 1: 'Versicolor', 2: 'Virginica'}})\n",
    "\n",
    "dd2 = pd.DataFrame({'petal.length': {0: 1.4620000000000002, 1: 4.26, 2: 5.552},\n",
    " 'petal.width': {0: 0.2459999999999999, 1: 1.3259999999999998, 2: 2.026},\n",
    " 'variety': {0: 'Setosa', 1: 'Versicolor', 2: 'Virginica'}})"
   ]
  },
  {
   "cell_type": "markdown",
   "metadata": {},
   "source": [
    "# Time data aggregation\n",
    "\n",
    "https://pandas.pydata.org/pandas-docs/stable/reference/api/pandas.pivot_table.html\n"
   ]
  },
  {
   "cell_type": "markdown",
   "metadata": {},
   "source": [
    "## Exercise 13*\n",
    "`data/book_extract.csv` file consists of records regarding financial performance of dealers. Prepare a report which explicates financial performance of dealers eligible for a payable bonus based on net result (`income-(clawback+opex)`) for each calendar month, given that opex/income ratio does not exceed 15%.\n",
    "\n",
    "Report should have tabular form, rows indicating bonus basis for each month with at least one eligible dealer, columns indicating all dealers."
   ]
  },
  {
   "cell_type": "code",
   "execution_count": null,
   "metadata": {},
   "outputs": [],
   "source": []
  }
 ],
 "metadata": {
  "kernelspec": {
   "display_name": "Python 3 (ipykernel)",
   "language": "python",
   "name": "python3"
  },
  "language_info": {
   "codemirror_mode": {
    "name": "ipython",
    "version": 3
   },
   "file_extension": ".py",
   "mimetype": "text/x-python",
   "name": "python",
   "nbconvert_exporter": "python",
   "pygments_lexer": "ipython3",
   "version": "3.8.10"
  }
 },
 "nbformat": 4,
 "nbformat_minor": 4
}
